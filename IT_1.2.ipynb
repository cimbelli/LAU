{
  "cells": [
    {
      "cell_type": "markdown",
      "metadata": {
        "id": "view-in-github",
        "colab_type": "text"
      },
      "source": [
        "<a href=\"https://colab.research.google.com/github/cimbelli/LAU/blob/main/IT_1.2.ipynb\" target=\"_parent\"><img src=\"https://colab.research.google.com/assets/colab-badge.svg\" alt=\"Open In Colab\"/></a>"
      ]
    },
    {
      "cell_type": "markdown",
      "metadata": {
        "id": "AlVIhVphwjH8",
        "tags": []
      },
      "source": [
        "# Generate LAU file for Italy"
      ]
    },
    {
      "cell_type": "code",
      "execution_count": 12,
      "metadata": {
        "id": "bXSh16lqY7_J",
        "tags": [],
        "outputId": "680473d3-14dc-4307-a3e7-5fef581d771e",
        "colab": {
          "base_uri": "https://localhost:8080/"
        }
      },
      "outputs": [
        {
          "output_type": "stream",
          "name": "stdout",
          "text": [
            "Requirement already satisfied: wget in /usr/local/lib/python3.10/dist-packages (3.2)\n"
          ]
        }
      ],
      "source": [
        "### IMPORT LIBRARIES\n",
        "\n",
        "import pandas as pd\n",
        "import os, sys\n",
        "import zipfile\n",
        "import glob\n",
        "import shutil\n",
        "import numpy as np\n",
        "!pip install wget\n",
        "import wget\n",
        "\n",
        "year = 2021"
      ]
    },
    {
      "cell_type": "code",
      "execution_count": 13,
      "metadata": {
        "id": "J3g-SXikaWj6",
        "tags": []
      },
      "outputs": [],
      "source": [
        "def extract(title, urlzipfile, cond, name):\n",
        "\n",
        "    print('\\n---', title, '---')\n",
        "    zipfilename = os.path.basename(urlzipfile)\n",
        "    out_dir = os.getcwd()\n",
        "    outfile = ''\n",
        "    if not os.path.isfile(zipfilename):\n",
        "        #!wget $urlzipfile\n",
        "        wget.download(urlzipfile,out = out_dir)\n",
        "    if os.path.splitext(zipfilename)[-1] == '.zip':\n",
        "        zip = zipfile.ZipFile(zipfilename)\n",
        "        for file in zip.namelist():\n",
        "            if file.endswith(cond) or file.endswith(cond[:-1]): # in the case of xls or xlsx files\n",
        "\n",
        "                if not file:\n",
        "                    continue\n",
        "                source = zip.open(file)\n",
        "                #target = open(os.path.basename(file), \"wb\")\n",
        "                ext = os.path.splitext(cond)[-1]\n",
        "                outfile = name + '_' + str(year) + ext\n",
        "                target = open(outfile, \"wb\")\n",
        "                with source, target:\n",
        "                    shutil.copyfileobj(source, target)\n",
        "        zip.close()\n",
        "        os.remove(zipfilename)\n",
        "    else:\n",
        "        if title != prev_title:\n",
        "            outfile = name + '_' + str(year) + os.path.splitext(zipfilename)[-1]\n",
        "            os.replace(zipfilename, outfile)\n",
        "        else:\n",
        "            outfile = os.path.basename(zipfilename)\n",
        "    return outfile\n",
        "\n",
        "def openfile(filename, cols):\n",
        "    ext = os.path.splitext(filename)[-1]\n",
        "    if ext == '.xls' or ext == '.xlsx':\n",
        "        df = pd.read_excel(filename, sheet_name=0, usecols = cols, dtype={'LAU CODE': object})\n",
        "    if ext == '.csv':\n",
        "        df = pd.read_csv(filename, sep=';', encoding=\"utf-8\", quotechar='\"',usecols = cols, skiprows=1, index_col=False,  dtype={population_code: object}).dropna()\n",
        "    return df\n",
        "\n",
        "def trim_all_columns(df):\n",
        "    \"\"\"\n",
        "    Trim whitespace from ends of each value across all series in dataframe\n",
        "    \"\"\"\n",
        "    trim_strings = lambda x: x.strip() if isinstance(x, str) else x\n",
        "    return df.applymap(trim_strings)"
      ]
    },
    {
      "cell_type": "code",
      "execution_count": 17,
      "metadata": {
        "id": "qnJ_NGngfmDd",
        "tags": []
      },
      "outputs": [],
      "source": [
        "### FILES URL and NAMES\n",
        "yrange = ''\n",
        "if year in range (2022, 2024):\n",
        "    yrange = '-2022-2023'\n",
        "elif year in range (2017, 2022):\n",
        "    yrange = '_2017-2021'\n",
        "else:\n",
        "    print(\"year not found\")\n",
        "\n",
        "nomenclature_title = 'NOMENCLATURE'\n",
        "nomenclature_zipfile = 'https://www.istat.it/storage/codici-unita-amministrative/Archivio-elenco-comuni-codici-e-denominazioni_Anni_' + yrange + '.zip'\n",
        "nomenclature_cond = '31_12_' + str(year) + '.xlsx'\n",
        "nomenclature_code = 'Codice Comune formato alfanumerico'\n",
        "nomenclature_name = 'Denominazione in italiano'\n",
        "nomenclature_nuts3 = 'Codice NUTS3 2021' if year > 2020 else 'Codice NUTS3 2010'\n",
        "nomenclature_cols = [nomenclature_code,nomenclature_name,nomenclature_nuts3]\n",
        "\n",
        "population_title = 'POPULATION'\n",
        "population_zipfile = 'https://demo.istat.it/data/p2/P2_' + str(year) + '_it_Comuni.zip'\n",
        "population_cond = 'P2_'  + str(year) + '_it_Comuni.csv'\n",
        "population_code = 'Codice comune'\n",
        "population_name = 'Comune'\n",
        "population_1stJan = 'Popolazione al 1° gennaio - Totale'\n",
        "population_cols = [population_code, population_name, population_1stJan]\n",
        "\n",
        "classifications_title = 'CLASSIFICATIONS'\n",
        "classifications_zipfile = 'https://www.istat.it/it/files/2015/04/Classificazioni-statistiche-Anni' + yrange + '.zip'\n",
        "classifications_cond = '31_12_' + str(year) + '.xlsx'\n",
        "classifications_code = 'Codice Istat del Comune \\n(numerico)'\n",
        "classifications_name = 'Denominazione (Italiana e straniera)'\n",
        "classifications_name2 = 'Denominazione altra lingua'\n",
        "classifications_area = 'Superficie territoriale (kmq) al 01/01/' + str(year)\n",
        "classifications_coast = 'Zone costiere'\n",
        "classifications_deg = 'Grado di urbanizzazione'\n",
        "classifications_cols = [classifications_code,classifications_name,classifications_name2,classifications_area,classifications_coast,classifications_deg]\n",
        "\n",
        "cityfua_title = 'CITYFUA'\n",
        "cityfua_file = 'https://www.istat.it/it/files/2019/11/Elenco-city-e-composizione-FUA-31-12-2020.xlsx'\n",
        "cityfua_cond = cityfua_file[-9:]\n",
        "cityfua_code = 'Procom numerico'\n",
        "cityfua_citycode = 'Codice City'\n",
        "cityfua_cityname = 'Denominazione City'\n",
        "cityfua_fuacode = 'Codice FUA'\n",
        "cityfua_fuaname = 'Denominazione FUA'\n",
        "cityfua_cols = [cityfua_code,cityfua_citycode,cityfua_cityname,cityfua_fuacode,cityfua_fuaname]\n",
        "\n",
        "prev_title = \"PREVIOUS LAU FILE\"\n",
        "#prev_fileurl = 'https://www.alessandrocimbelli.eu/gopa/NUTS_LAU_A_IT_' + str(year-1) + '_0000_V0001.zip'\n",
        "prev_fileurl = 'https://github.com/cimbelli/LAU/raw/main/NUTS_LAU_A_IT_' + str(year-1) + '_0000_V0001.xlsx'\n",
        "prev_cond = '.xlsx'\n",
        "prev_nuts3 = 'NUTS 3 CODE'\n",
        "prev_laucode = 'LAU CODE'\n",
        "prev_name = 'LAU NAME NATIONAL'\n",
        "prev_area = 'TOTAL AREA (m2)'\n",
        "prev_cols = [prev_nuts3, prev_laucode, prev_name, prev_area]\n",
        "\n",
        "lau_code = \"LAU CODE\"\n",
        "change = \"CHANGE (Y/N)\"\n",
        "prev_flag = False\n",
        "\n",
        "# field mapping\n",
        "columns={nomenclature_nuts3: \"NUTS 3 CODE\",\n",
        "         lau_code: \"LAU CODE\",\n",
        "         population_name: \"LAU NAME NATIONAL\",\n",
        "         classifications_name2: \"LAU NAME LATIN\",\n",
        "         change: \"CHANGE (Y/N)\",\n",
        "         population_1stJan: \"POPULATION\",\n",
        "         classifications_area: \"TOTAL AREA (m2)\",\n",
        "         classifications_deg: \"DEGURBA\",\n",
        "         classifications_coast: \"COASTAL AREA (yes/no)\",\n",
        "         cityfua_citycode: \"CITY_ID\",\n",
        "         cityfua_cityname: \"CITY_NAME\",\n",
        "         cityfua_fuacode: \"FUA_ID\",\n",
        "         cityfua_fuaname: \"FUA_NAME\"\n",
        "         }\n",
        "\n",
        "country ='IT'\n",
        "outname = 'NUTS_LAU_A_IT_' + str(year) + '_0000_V0001.xlsx'"
      ]
    },
    {
      "cell_type": "code",
      "execution_count": 18,
      "metadata": {
        "tags": [],
        "id": "4GnBpnZlwszD",
        "outputId": "8f5ee5ce-2766-4022-85e6-174fabcb129e",
        "colab": {
          "base_uri": "https://localhost:8080/"
        }
      },
      "outputs": [
        {
          "output_type": "stream",
          "name": "stdout",
          "text": [
            "https://www.istat.it/storage/codici-unita-amministrative/Archivio-elenco-comuni-codici-e-denominazioni_Anni_2017-2021.zip\n",
            "https://demo.istat.it/data/p2/P2_2021_it_Comuni.zip\n",
            "https://www.istat.it/it/files/2015/04/Classificazioni-statistiche-Anni_2017-2021.zip\n",
            "https://www.istat.it/it/files/2019/11/Elenco-city-e-composizione-FUA-31-12-2020.xlsx\n",
            "https://github.com/cimbelli/LAU/raw/main/NUTS_LAU_A_IT_2020_0000_V0001.xlsx\n"
          ]
        }
      ],
      "source": [
        "print(nomenclature_zipfile)\n",
        "print(population_zipfile)\n",
        "print(classifications_zipfile)\n",
        "print(cityfua_file)\n",
        "print(prev_fileurl)"
      ]
    },
    {
      "cell_type": "code",
      "execution_count": 19,
      "metadata": {
        "id": "SfhdzntcbOYF",
        "tags": [],
        "outputId": "4ebfa4a3-48de-4ca3-8727-f7c2bb9c1594",
        "colab": {
          "base_uri": "https://localhost:8080/",
          "height": 546
        }
      },
      "outputs": [
        {
          "output_type": "stream",
          "name": "stdout",
          "text": [
            "DOWNLOAD and UNZIP\n",
            "\n",
            "--- NOMENCLATURE ---\n",
            "\n",
            "--- POPULATION ---\n",
            "\n",
            "--- CLASSIFICATIONS ---\n",
            "\n",
            "--- CITYFUA ---\n",
            "\n",
            "--- PREVIOUS LAU FILE ---\n"
          ]
        },
        {
          "output_type": "error",
          "ename": "HTTPError",
          "evalue": "ignored",
          "traceback": [
            "\u001b[0;31m---------------------------------------------------------------------------\u001b[0m",
            "\u001b[0;31mHTTPError\u001b[0m                                 Traceback (most recent call last)",
            "\u001b[0;32m<ipython-input-19-5e8af578692b>\u001b[0m in \u001b[0;36m<cell line: 9>\u001b[0;34m()\u001b[0m\n\u001b[1;32m      7\u001b[0m \u001b[0mclassifications_file\u001b[0m \u001b[0;34m=\u001b[0m \u001b[0mextract\u001b[0m\u001b[0;34m(\u001b[0m\u001b[0mclassifications_title\u001b[0m\u001b[0;34m,\u001b[0m \u001b[0mclassifications_zipfile\u001b[0m\u001b[0;34m,\u001b[0m \u001b[0mclassifications_cond\u001b[0m\u001b[0;34m,\u001b[0m\u001b[0;34m'classifications'\u001b[0m\u001b[0;34m)\u001b[0m\u001b[0;34m\u001b[0m\u001b[0;34m\u001b[0m\u001b[0m\n\u001b[1;32m      8\u001b[0m \u001b[0mcityfua_file\u001b[0m \u001b[0;34m=\u001b[0m \u001b[0mextract\u001b[0m\u001b[0;34m(\u001b[0m\u001b[0mcityfua_title\u001b[0m\u001b[0;34m,\u001b[0m \u001b[0mcityfua_file\u001b[0m\u001b[0;34m,\u001b[0m \u001b[0mcityfua_cond\u001b[0m\u001b[0;34m,\u001b[0m\u001b[0;34m'cityfua'\u001b[0m\u001b[0;34m)\u001b[0m\u001b[0;34m\u001b[0m\u001b[0;34m\u001b[0m\u001b[0m\n\u001b[0;32m----> 9\u001b[0;31m \u001b[0mprev_file\u001b[0m \u001b[0;34m=\u001b[0m \u001b[0mextract\u001b[0m\u001b[0;34m(\u001b[0m\u001b[0mprev_title\u001b[0m\u001b[0;34m,\u001b[0m \u001b[0mprev_fileurl\u001b[0m\u001b[0;34m,\u001b[0m \u001b[0mprev_cond\u001b[0m\u001b[0;34m,\u001b[0m\u001b[0;34m'prev'\u001b[0m\u001b[0;34m)\u001b[0m\u001b[0;34m\u001b[0m\u001b[0;34m\u001b[0m\u001b[0m\n\u001b[0m",
            "\u001b[0;32m<ipython-input-13-4fe902ab45e6>\u001b[0m in \u001b[0;36mextract\u001b[0;34m(title, urlzipfile, cond, name)\u001b[0m\n\u001b[1;32m      7\u001b[0m     \u001b[0;32mif\u001b[0m \u001b[0;32mnot\u001b[0m \u001b[0mos\u001b[0m\u001b[0;34m.\u001b[0m\u001b[0mpath\u001b[0m\u001b[0;34m.\u001b[0m\u001b[0misfile\u001b[0m\u001b[0;34m(\u001b[0m\u001b[0mzipfilename\u001b[0m\u001b[0;34m)\u001b[0m\u001b[0;34m:\u001b[0m\u001b[0;34m\u001b[0m\u001b[0;34m\u001b[0m\u001b[0m\n\u001b[1;32m      8\u001b[0m         \u001b[0;31m#!wget $urlzipfile\u001b[0m\u001b[0;34m\u001b[0m\u001b[0;34m\u001b[0m\u001b[0m\n\u001b[0;32m----> 9\u001b[0;31m         \u001b[0mwget\u001b[0m\u001b[0;34m.\u001b[0m\u001b[0mdownload\u001b[0m\u001b[0;34m(\u001b[0m\u001b[0murlzipfile\u001b[0m\u001b[0;34m,\u001b[0m\u001b[0mout\u001b[0m \u001b[0;34m=\u001b[0m \u001b[0mout_dir\u001b[0m\u001b[0;34m)\u001b[0m\u001b[0;34m\u001b[0m\u001b[0;34m\u001b[0m\u001b[0m\n\u001b[0m\u001b[1;32m     10\u001b[0m     \u001b[0;32mif\u001b[0m \u001b[0mos\u001b[0m\u001b[0;34m.\u001b[0m\u001b[0mpath\u001b[0m\u001b[0;34m.\u001b[0m\u001b[0msplitext\u001b[0m\u001b[0;34m(\u001b[0m\u001b[0mzipfilename\u001b[0m\u001b[0;34m)\u001b[0m\u001b[0;34m[\u001b[0m\u001b[0;34m-\u001b[0m\u001b[0;36m1\u001b[0m\u001b[0;34m]\u001b[0m \u001b[0;34m==\u001b[0m \u001b[0;34m'.zip'\u001b[0m\u001b[0;34m:\u001b[0m\u001b[0;34m\u001b[0m\u001b[0;34m\u001b[0m\u001b[0m\n\u001b[1;32m     11\u001b[0m         \u001b[0mzip\u001b[0m \u001b[0;34m=\u001b[0m \u001b[0mzipfile\u001b[0m\u001b[0;34m.\u001b[0m\u001b[0mZipFile\u001b[0m\u001b[0;34m(\u001b[0m\u001b[0mzipfilename\u001b[0m\u001b[0;34m)\u001b[0m\u001b[0;34m\u001b[0m\u001b[0;34m\u001b[0m\u001b[0m\n",
            "\u001b[0;32m/usr/local/lib/python3.10/dist-packages/wget.py\u001b[0m in \u001b[0;36mdownload\u001b[0;34m(url, out, bar)\u001b[0m\n\u001b[1;32m    524\u001b[0m     \u001b[0;32melse\u001b[0m\u001b[0;34m:\u001b[0m\u001b[0;34m\u001b[0m\u001b[0;34m\u001b[0m\u001b[0m\n\u001b[1;32m    525\u001b[0m         \u001b[0mbinurl\u001b[0m \u001b[0;34m=\u001b[0m \u001b[0murl\u001b[0m\u001b[0;34m\u001b[0m\u001b[0;34m\u001b[0m\u001b[0m\n\u001b[0;32m--> 526\u001b[0;31m     \u001b[0;34m(\u001b[0m\u001b[0mtmpfile\u001b[0m\u001b[0;34m,\u001b[0m \u001b[0mheaders\u001b[0m\u001b[0;34m)\u001b[0m \u001b[0;34m=\u001b[0m \u001b[0mulib\u001b[0m\u001b[0;34m.\u001b[0m\u001b[0murlretrieve\u001b[0m\u001b[0;34m(\u001b[0m\u001b[0mbinurl\u001b[0m\u001b[0;34m,\u001b[0m \u001b[0mtmpfile\u001b[0m\u001b[0;34m,\u001b[0m \u001b[0mcallback\u001b[0m\u001b[0;34m)\u001b[0m\u001b[0;34m\u001b[0m\u001b[0;34m\u001b[0m\u001b[0m\n\u001b[0m\u001b[1;32m    527\u001b[0m     \u001b[0mfilename\u001b[0m \u001b[0;34m=\u001b[0m \u001b[0mdetect_filename\u001b[0m\u001b[0;34m(\u001b[0m\u001b[0murl\u001b[0m\u001b[0;34m,\u001b[0m \u001b[0mout\u001b[0m\u001b[0;34m,\u001b[0m \u001b[0mheaders\u001b[0m\u001b[0;34m)\u001b[0m\u001b[0;34m\u001b[0m\u001b[0;34m\u001b[0m\u001b[0m\n\u001b[1;32m    528\u001b[0m     \u001b[0;32mif\u001b[0m \u001b[0moutdir\u001b[0m\u001b[0;34m:\u001b[0m\u001b[0;34m\u001b[0m\u001b[0;34m\u001b[0m\u001b[0m\n",
            "\u001b[0;32m/usr/lib/python3.10/urllib/request.py\u001b[0m in \u001b[0;36murlretrieve\u001b[0;34m(url, filename, reporthook, data)\u001b[0m\n\u001b[1;32m    239\u001b[0m     \u001b[0murl_type\u001b[0m\u001b[0;34m,\u001b[0m \u001b[0mpath\u001b[0m \u001b[0;34m=\u001b[0m \u001b[0m_splittype\u001b[0m\u001b[0;34m(\u001b[0m\u001b[0murl\u001b[0m\u001b[0;34m)\u001b[0m\u001b[0;34m\u001b[0m\u001b[0;34m\u001b[0m\u001b[0m\n\u001b[1;32m    240\u001b[0m \u001b[0;34m\u001b[0m\u001b[0m\n\u001b[0;32m--> 241\u001b[0;31m     \u001b[0;32mwith\u001b[0m \u001b[0mcontextlib\u001b[0m\u001b[0;34m.\u001b[0m\u001b[0mclosing\u001b[0m\u001b[0;34m(\u001b[0m\u001b[0murlopen\u001b[0m\u001b[0;34m(\u001b[0m\u001b[0murl\u001b[0m\u001b[0;34m,\u001b[0m \u001b[0mdata\u001b[0m\u001b[0;34m)\u001b[0m\u001b[0;34m)\u001b[0m \u001b[0;32mas\u001b[0m \u001b[0mfp\u001b[0m\u001b[0;34m:\u001b[0m\u001b[0;34m\u001b[0m\u001b[0;34m\u001b[0m\u001b[0m\n\u001b[0m\u001b[1;32m    242\u001b[0m         \u001b[0mheaders\u001b[0m \u001b[0;34m=\u001b[0m \u001b[0mfp\u001b[0m\u001b[0;34m.\u001b[0m\u001b[0minfo\u001b[0m\u001b[0;34m(\u001b[0m\u001b[0;34m)\u001b[0m\u001b[0;34m\u001b[0m\u001b[0;34m\u001b[0m\u001b[0m\n\u001b[1;32m    243\u001b[0m \u001b[0;34m\u001b[0m\u001b[0m\n",
            "\u001b[0;32m/usr/lib/python3.10/urllib/request.py\u001b[0m in \u001b[0;36murlopen\u001b[0;34m(url, data, timeout, cafile, capath, cadefault, context)\u001b[0m\n\u001b[1;32m    214\u001b[0m     \u001b[0;32melse\u001b[0m\u001b[0;34m:\u001b[0m\u001b[0;34m\u001b[0m\u001b[0;34m\u001b[0m\u001b[0m\n\u001b[1;32m    215\u001b[0m         \u001b[0mopener\u001b[0m \u001b[0;34m=\u001b[0m \u001b[0m_opener\u001b[0m\u001b[0;34m\u001b[0m\u001b[0;34m\u001b[0m\u001b[0m\n\u001b[0;32m--> 216\u001b[0;31m     \u001b[0;32mreturn\u001b[0m \u001b[0mopener\u001b[0m\u001b[0;34m.\u001b[0m\u001b[0mopen\u001b[0m\u001b[0;34m(\u001b[0m\u001b[0murl\u001b[0m\u001b[0;34m,\u001b[0m \u001b[0mdata\u001b[0m\u001b[0;34m,\u001b[0m \u001b[0mtimeout\u001b[0m\u001b[0;34m)\u001b[0m\u001b[0;34m\u001b[0m\u001b[0;34m\u001b[0m\u001b[0m\n\u001b[0m\u001b[1;32m    217\u001b[0m \u001b[0;34m\u001b[0m\u001b[0m\n\u001b[1;32m    218\u001b[0m \u001b[0;32mdef\u001b[0m \u001b[0minstall_opener\u001b[0m\u001b[0;34m(\u001b[0m\u001b[0mopener\u001b[0m\u001b[0;34m)\u001b[0m\u001b[0;34m:\u001b[0m\u001b[0;34m\u001b[0m\u001b[0;34m\u001b[0m\u001b[0m\n",
            "\u001b[0;32m/usr/lib/python3.10/urllib/request.py\u001b[0m in \u001b[0;36mopen\u001b[0;34m(self, fullurl, data, timeout)\u001b[0m\n\u001b[1;32m    523\u001b[0m         \u001b[0;32mfor\u001b[0m \u001b[0mprocessor\u001b[0m \u001b[0;32min\u001b[0m \u001b[0mself\u001b[0m\u001b[0;34m.\u001b[0m\u001b[0mprocess_response\u001b[0m\u001b[0;34m.\u001b[0m\u001b[0mget\u001b[0m\u001b[0;34m(\u001b[0m\u001b[0mprotocol\u001b[0m\u001b[0;34m,\u001b[0m \u001b[0;34m[\u001b[0m\u001b[0;34m]\u001b[0m\u001b[0;34m)\u001b[0m\u001b[0;34m:\u001b[0m\u001b[0;34m\u001b[0m\u001b[0;34m\u001b[0m\u001b[0m\n\u001b[1;32m    524\u001b[0m             \u001b[0mmeth\u001b[0m \u001b[0;34m=\u001b[0m \u001b[0mgetattr\u001b[0m\u001b[0;34m(\u001b[0m\u001b[0mprocessor\u001b[0m\u001b[0;34m,\u001b[0m \u001b[0mmeth_name\u001b[0m\u001b[0;34m)\u001b[0m\u001b[0;34m\u001b[0m\u001b[0;34m\u001b[0m\u001b[0m\n\u001b[0;32m--> 525\u001b[0;31m             \u001b[0mresponse\u001b[0m \u001b[0;34m=\u001b[0m \u001b[0mmeth\u001b[0m\u001b[0;34m(\u001b[0m\u001b[0mreq\u001b[0m\u001b[0;34m,\u001b[0m \u001b[0mresponse\u001b[0m\u001b[0;34m)\u001b[0m\u001b[0;34m\u001b[0m\u001b[0;34m\u001b[0m\u001b[0m\n\u001b[0m\u001b[1;32m    526\u001b[0m \u001b[0;34m\u001b[0m\u001b[0m\n\u001b[1;32m    527\u001b[0m         \u001b[0;32mreturn\u001b[0m \u001b[0mresponse\u001b[0m\u001b[0;34m\u001b[0m\u001b[0;34m\u001b[0m\u001b[0m\n",
            "\u001b[0;32m/usr/lib/python3.10/urllib/request.py\u001b[0m in \u001b[0;36mhttp_response\u001b[0;34m(self, request, response)\u001b[0m\n\u001b[1;32m    632\u001b[0m         \u001b[0;31m# request was successfully received, understood, and accepted.\u001b[0m\u001b[0;34m\u001b[0m\u001b[0;34m\u001b[0m\u001b[0m\n\u001b[1;32m    633\u001b[0m         \u001b[0;32mif\u001b[0m \u001b[0;32mnot\u001b[0m \u001b[0;34m(\u001b[0m\u001b[0;36m200\u001b[0m \u001b[0;34m<=\u001b[0m \u001b[0mcode\u001b[0m \u001b[0;34m<\u001b[0m \u001b[0;36m300\u001b[0m\u001b[0;34m)\u001b[0m\u001b[0;34m:\u001b[0m\u001b[0;34m\u001b[0m\u001b[0;34m\u001b[0m\u001b[0m\n\u001b[0;32m--> 634\u001b[0;31m             response = self.parent.error(\n\u001b[0m\u001b[1;32m    635\u001b[0m                 'http', request, response, code, msg, hdrs)\n\u001b[1;32m    636\u001b[0m \u001b[0;34m\u001b[0m\u001b[0m\n",
            "\u001b[0;32m/usr/lib/python3.10/urllib/request.py\u001b[0m in \u001b[0;36merror\u001b[0;34m(self, proto, *args)\u001b[0m\n\u001b[1;32m    561\u001b[0m         \u001b[0;32mif\u001b[0m \u001b[0mhttp_err\u001b[0m\u001b[0;34m:\u001b[0m\u001b[0;34m\u001b[0m\u001b[0;34m\u001b[0m\u001b[0m\n\u001b[1;32m    562\u001b[0m             \u001b[0margs\u001b[0m \u001b[0;34m=\u001b[0m \u001b[0;34m(\u001b[0m\u001b[0mdict\u001b[0m\u001b[0;34m,\u001b[0m \u001b[0;34m'default'\u001b[0m\u001b[0;34m,\u001b[0m \u001b[0;34m'http_error_default'\u001b[0m\u001b[0;34m)\u001b[0m \u001b[0;34m+\u001b[0m \u001b[0morig_args\u001b[0m\u001b[0;34m\u001b[0m\u001b[0;34m\u001b[0m\u001b[0m\n\u001b[0;32m--> 563\u001b[0;31m             \u001b[0;32mreturn\u001b[0m \u001b[0mself\u001b[0m\u001b[0;34m.\u001b[0m\u001b[0m_call_chain\u001b[0m\u001b[0;34m(\u001b[0m\u001b[0;34m*\u001b[0m\u001b[0margs\u001b[0m\u001b[0;34m)\u001b[0m\u001b[0;34m\u001b[0m\u001b[0;34m\u001b[0m\u001b[0m\n\u001b[0m\u001b[1;32m    564\u001b[0m \u001b[0;34m\u001b[0m\u001b[0m\n\u001b[1;32m    565\u001b[0m \u001b[0;31m# XXX probably also want an abstract factory that knows when it makes\u001b[0m\u001b[0;34m\u001b[0m\u001b[0;34m\u001b[0m\u001b[0m\n",
            "\u001b[0;32m/usr/lib/python3.10/urllib/request.py\u001b[0m in \u001b[0;36m_call_chain\u001b[0;34m(self, chain, kind, meth_name, *args)\u001b[0m\n\u001b[1;32m    494\u001b[0m         \u001b[0;32mfor\u001b[0m \u001b[0mhandler\u001b[0m \u001b[0;32min\u001b[0m \u001b[0mhandlers\u001b[0m\u001b[0;34m:\u001b[0m\u001b[0;34m\u001b[0m\u001b[0;34m\u001b[0m\u001b[0m\n\u001b[1;32m    495\u001b[0m             \u001b[0mfunc\u001b[0m \u001b[0;34m=\u001b[0m \u001b[0mgetattr\u001b[0m\u001b[0;34m(\u001b[0m\u001b[0mhandler\u001b[0m\u001b[0;34m,\u001b[0m \u001b[0mmeth_name\u001b[0m\u001b[0;34m)\u001b[0m\u001b[0;34m\u001b[0m\u001b[0;34m\u001b[0m\u001b[0m\n\u001b[0;32m--> 496\u001b[0;31m             \u001b[0mresult\u001b[0m \u001b[0;34m=\u001b[0m \u001b[0mfunc\u001b[0m\u001b[0;34m(\u001b[0m\u001b[0;34m*\u001b[0m\u001b[0margs\u001b[0m\u001b[0;34m)\u001b[0m\u001b[0;34m\u001b[0m\u001b[0;34m\u001b[0m\u001b[0m\n\u001b[0m\u001b[1;32m    497\u001b[0m             \u001b[0;32mif\u001b[0m \u001b[0mresult\u001b[0m \u001b[0;32mis\u001b[0m \u001b[0;32mnot\u001b[0m \u001b[0;32mNone\u001b[0m\u001b[0;34m:\u001b[0m\u001b[0;34m\u001b[0m\u001b[0;34m\u001b[0m\u001b[0m\n\u001b[1;32m    498\u001b[0m                 \u001b[0;32mreturn\u001b[0m \u001b[0mresult\u001b[0m\u001b[0;34m\u001b[0m\u001b[0;34m\u001b[0m\u001b[0m\n",
            "\u001b[0;32m/usr/lib/python3.10/urllib/request.py\u001b[0m in \u001b[0;36mhttp_error_default\u001b[0;34m(self, req, fp, code, msg, hdrs)\u001b[0m\n\u001b[1;32m    641\u001b[0m \u001b[0;32mclass\u001b[0m \u001b[0mHTTPDefaultErrorHandler\u001b[0m\u001b[0;34m(\u001b[0m\u001b[0mBaseHandler\u001b[0m\u001b[0;34m)\u001b[0m\u001b[0;34m:\u001b[0m\u001b[0;34m\u001b[0m\u001b[0;34m\u001b[0m\u001b[0m\n\u001b[1;32m    642\u001b[0m     \u001b[0;32mdef\u001b[0m \u001b[0mhttp_error_default\u001b[0m\u001b[0;34m(\u001b[0m\u001b[0mself\u001b[0m\u001b[0;34m,\u001b[0m \u001b[0mreq\u001b[0m\u001b[0;34m,\u001b[0m \u001b[0mfp\u001b[0m\u001b[0;34m,\u001b[0m \u001b[0mcode\u001b[0m\u001b[0;34m,\u001b[0m \u001b[0mmsg\u001b[0m\u001b[0;34m,\u001b[0m \u001b[0mhdrs\u001b[0m\u001b[0;34m)\u001b[0m\u001b[0;34m:\u001b[0m\u001b[0;34m\u001b[0m\u001b[0;34m\u001b[0m\u001b[0m\n\u001b[0;32m--> 643\u001b[0;31m         \u001b[0;32mraise\u001b[0m \u001b[0mHTTPError\u001b[0m\u001b[0;34m(\u001b[0m\u001b[0mreq\u001b[0m\u001b[0;34m.\u001b[0m\u001b[0mfull_url\u001b[0m\u001b[0;34m,\u001b[0m \u001b[0mcode\u001b[0m\u001b[0;34m,\u001b[0m \u001b[0mmsg\u001b[0m\u001b[0;34m,\u001b[0m \u001b[0mhdrs\u001b[0m\u001b[0;34m,\u001b[0m \u001b[0mfp\u001b[0m\u001b[0;34m)\u001b[0m\u001b[0;34m\u001b[0m\u001b[0;34m\u001b[0m\u001b[0m\n\u001b[0m\u001b[1;32m    644\u001b[0m \u001b[0;34m\u001b[0m\u001b[0m\n\u001b[1;32m    645\u001b[0m \u001b[0;32mclass\u001b[0m \u001b[0mHTTPRedirectHandler\u001b[0m\u001b[0;34m(\u001b[0m\u001b[0mBaseHandler\u001b[0m\u001b[0;34m)\u001b[0m\u001b[0;34m:\u001b[0m\u001b[0;34m\u001b[0m\u001b[0;34m\u001b[0m\u001b[0m\n",
            "\u001b[0;31mHTTPError\u001b[0m: HTTP Error 404: Not Found"
          ]
        }
      ],
      "source": [
        "### FILES DOWNLOAD and RENAME\n",
        "\n",
        "#%%capture test\n",
        "print('DOWNLOAD and UNZIP')\n",
        "nomenclature_file = extract(nomenclature_title, nomenclature_zipfile, nomenclature_cond,'nomenclature')\n",
        "population_file = extract(population_title, population_zipfile, population_cond,'population')\n",
        "classifications_file = extract(classifications_title, classifications_zipfile, classifications_cond,'classifications')\n",
        "cityfua_file = extract(cityfua_title, cityfua_file, cityfua_cond,'cityfua')\n",
        "prev_file = extract(prev_title, prev_fileurl, prev_cond,'prev')"
      ]
    },
    {
      "cell_type": "code",
      "execution_count": null,
      "metadata": {
        "id": "RUkqkHpmHk24",
        "tags": []
      },
      "outputs": [],
      "source": [
        "### FILES OPEN\n",
        "nomenclature = openfile(nomenclature_file, nomenclature_cols)\n",
        "population = openfile(population_file, population_cols)\n",
        "classifications = openfile(classifications_file,classifications_cols)\n",
        "cityfua = openfile(cityfua_file, cityfua_cols)\n",
        "\n",
        "### CLEAN RECORDS FROM BLANKS\n",
        "nomenclature = trim_all_columns(nomenclature)\n",
        "population = trim_all_columns(population)\n",
        "classifications = trim_all_columns(classifications)\n",
        "cityfua = trim_all_columns(cityfua)\n",
        "\n",
        "# check LAU file of the previous year\n",
        "\n",
        "if os.path.exists(prev_file):\n",
        "    prev_flag = True\n",
        "    previous = openfile(prev_file, prev_cols)\n",
        "    previous = trim_all_columns(previous)\n",
        "    previous = previous.rename(columns={prev_nuts3: \"nuts3\", prev_laucode: \"lau\", prev_name: \"name\", prev_area: \"area\"})\n",
        "\n",
        "population[lau_code] = population[population_code].astype(str)\n",
        "population[population_code] = pd.to_numeric(population[population_code])\n",
        "population[population_1stJan] = population[population_1stJan].astype(int)"
      ]
    },
    {
      "cell_type": "code",
      "execution_count": null,
      "metadata": {
        "id": "x8xZIV3BGvKY"
      },
      "outputs": [],
      "source": [
        "### 1st JOIN\n",
        "df = pd.merge(nomenclature,population,left_on=nomenclature_code, right_on=population_code)\n",
        "df = df[[nomenclature_nuts3,lau_code, population_code, population_name, population_1stJan]]\n",
        "\n",
        "### 2nd JOIN\n",
        "df1 = pd.merge(df,classifications,left_on=population_code, right_on=classifications_code)\n",
        "df1 = df1[[nomenclature_nuts3,lau_code, population_code, population_name,classifications_name2, population_1stJan, classifications_area,\n",
        "           classifications_deg,classifications_coast]]\n",
        "\n",
        "### 3rd JOIN\n",
        "df2 = pd.merge(df1,cityfua,left_on=population_code, how='left', right_on=cityfua_code)\n",
        "df2[change]= ''\n",
        "df2 = df2[[nomenclature_nuts3,lau_code, population_name,classifications_name2, change, population_1stJan, classifications_area,classifications_deg,\n",
        "           classifications_coast, cityfua_citycode,cityfua_cityname,cityfua_fuacode,cityfua_fuaname]]\n",
        "\n",
        "# some value adjustments\n",
        "df2 = df2.replace('N.d.', 0)\n",
        "df2[classifications_area] = df2[classifications_area].astype(float)*1000000\n",
        "df2[classifications_area] = df2[classifications_area].astype(int)\n",
        "\n",
        "df2.loc[df2[classifications_coast] == 1, classifications_coast] = 'yes'\n",
        "df2.loc[df2[classifications_coast] == 0, classifications_coast] = 'no'\n",
        "\n",
        "df2 = df2.fillna('')\n",
        "df2.replace(np.nan,'',regex=True)\n",
        "df2 = df2.replace(0,'')\n",
        "\n",
        "### 4th JOIN if previous file exists\n",
        "if prev_flag:\n",
        "    df3 = pd.merge(df2, previous, left_on=lau_code, how='left', right_on=\"lau\")\n",
        "    df3[change]= 'N'\n",
        "    df3.loc[df3[nomenclature_nuts3] != df3['nuts3'], change] = 'Y'\n",
        "    df3.loc[df3[population_name] != df3['name'], change] = 'Y'\n",
        "    #df3.loc[df3[classifications_area] != df3['area'], change] = 'Y'\n",
        "    df2 = df3[[nomenclature_nuts3,lau_code, population_name,classifications_name2, change, population_1stJan, classifications_area,classifications_deg,\n",
        "           classifications_coast, cityfua_citycode,cityfua_cityname,cityfua_fuacode,cityfua_fuaname]]\n",
        "\n",
        "\n",
        "# output\n",
        "out = df2.rename(columns = columns)\n",
        "out.to_excel(outname, sheet_name = country, index=False)"
      ]
    },
    {
      "cell_type": "code",
      "execution_count": null,
      "metadata": {
        "id": "zsupv6LwbHKo",
        "tags": []
      },
      "outputs": [],
      "source": [
        "out.head()"
      ]
    },
    {
      "cell_type": "code",
      "execution_count": null,
      "metadata": {
        "id": "-ma451lZwszF"
      },
      "outputs": [],
      "source": []
    }
  ],
  "metadata": {
    "colab": {
      "provenance": [],
      "include_colab_link": true
    },
    "kernelspec": {
      "display_name": "Python 3 (ipykernel)",
      "language": "python",
      "name": "python3"
    },
    "language_info": {
      "codemirror_mode": {
        "name": "ipython",
        "version": 3
      },
      "file_extension": ".py",
      "mimetype": "text/x-python",
      "name": "python",
      "nbconvert_exporter": "python",
      "pygments_lexer": "ipython3",
      "version": "3.11.4"
    }
  },
  "nbformat": 4,
  "nbformat_minor": 0
}