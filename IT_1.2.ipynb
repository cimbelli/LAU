{
  "cells": [
    {
      "cell_type": "markdown",
      "metadata": {
        "id": "view-in-github",
        "colab_type": "text"
      },
      "source": [
        "<a href=\"https://colab.research.google.com/github/cimbelli/LAU/blob/main/IT_1.2.ipynb\" target=\"_parent\"><img src=\"https://colab.research.google.com/assets/colab-badge.svg\" alt=\"Open In Colab\"/></a>"
      ]
    },
    {
      "cell_type": "markdown",
      "metadata": {
        "id": "AlVIhVphwjH8",
        "tags": []
      },
      "source": [
        "# Generate LAU file for Italy"
      ]
    },
    {
      "cell_type": "code",
      "execution_count": 1,
      "metadata": {
        "id": "bXSh16lqY7_J",
        "tags": [],
        "colab": {
          "base_uri": "https://localhost:8080/"
        },
        "outputId": "6da2cd45-e66b-48cb-9f6d-5a9efa7d0979"
      },
      "outputs": [
        {
          "output_type": "stream",
          "name": "stdout",
          "text": [
            "Requirement already satisfied: wget in /usr/local/lib/python3.10/dist-packages (3.2)\n"
          ]
        }
      ],
      "source": [
        "### IMPORT LIBRARIES\n",
        "\n",
        "import pandas as pd\n",
        "import os, sys\n",
        "import zipfile\n",
        "import glob\n",
        "import shutil\n",
        "import numpy as np\n",
        "!pip install wget\n",
        "import wget\n",
        "\n",
        "year = 2022"
      ]
    },
    {
      "cell_type": "code",
      "execution_count": 2,
      "metadata": {
        "id": "J3g-SXikaWj6",
        "tags": []
      },
      "outputs": [],
      "source": [
        "def extract(title, urlzipfile, cond, name):\n",
        "\n",
        "    print('---', title, '---')\n",
        "    zipfilename = os.path.basename(urlzipfile)\n",
        "    out_dir = os.getcwd()\n",
        "    outfile = ''\n",
        "    if not os.path.isfile(zipfilename):\n",
        "        #!wget $urlzipfile\n",
        "        wget.download(urlzipfile,out = out_dir)\n",
        "    if os.path.splitext(zipfilename)[-1] == '.zip':\n",
        "        zip = zipfile.ZipFile(zipfilename)\n",
        "        for file in zip.namelist():\n",
        "            if file.endswith(cond) or file.endswith(cond[:-1]): # in the case of xls or xlsx files\n",
        "\n",
        "                if not file:\n",
        "                    continue\n",
        "                source = zip.open(file)\n",
        "                #target = open(os.path.basename(file), \"wb\")\n",
        "                ext = os.path.splitext(cond)[-1]\n",
        "                outfile = name + '_' + str(year) + ext\n",
        "                target = open(outfile, \"wb\")\n",
        "                with source, target:\n",
        "                    shutil.copyfileobj(source, target)\n",
        "        zip.close()\n",
        "        os.remove(zipfilename)\n",
        "    else:\n",
        "        if title != prev_title:\n",
        "            outfile = name + '_' + str(year) + os.path.splitext(zipfilename)[-1]\n",
        "            os.replace(zipfilename, outfile)\n",
        "        else:\n",
        "            outfile = os.path.basename(zipfilename)\n",
        "    print(outfile)\n",
        "    return outfile\n",
        "\n",
        "def openfile(filename, cols):\n",
        "    ext = os.path.splitext(filename)[-1]\n",
        "    if ext == '.xls' or ext == '.xlsx':\n",
        "        df = pd.read_excel(filename, sheet_name=0, usecols = cols, dtype={'LAU CODE': object})\n",
        "    if ext == '.csv':\n",
        "        df = pd.read_csv(filename, sep=';', encoding=\"utf-8\", quotechar='\"',usecols = cols, skiprows=1, index_col=False,  dtype={population_code: object}).dropna()\n",
        "    return df\n",
        "\n",
        "def trim_all_columns(df):\n",
        "    \"\"\"\n",
        "    Trim whitespace from ends of each value across all series in dataframe\n",
        "    \"\"\"\n",
        "    trim_strings = lambda x: x.strip() if isinstance(x, str) else x\n",
        "    return df.applymap(trim_strings)"
      ]
    },
    {
      "cell_type": "code",
      "execution_count": 3,
      "metadata": {
        "id": "qnJ_NGngfmDd",
        "tags": []
      },
      "outputs": [],
      "source": [
        "### FILES URL and NAMES\n",
        "yrange = ''\n",
        "if year in range (2022, 2024):\n",
        "    yrange = '2022-2023'\n",
        "    yrange1 = '-2022-2023'\n",
        "elif year in range (2017, 2022):\n",
        "    yrange = '2017-2021'\n",
        "    yrange1 = '_2017-2021'\n",
        "else:\n",
        "    print(\"year not found\")\n",
        "\n",
        "nomenclature_title = 'NOMENCLATURE'\n",
        "nomenclature_zipfile = 'https://www.istat.it/storage/codici-unita-amministrative/Archivio-elenco-comuni-codici-e-denominazioni_Anni_' + yrange + '.zip'\n",
        "nomenclature_cond = '31_12_' + str(year) + '.xlsx'\n",
        "nomenclature_code = 'Codice Comune formato alfanumerico'\n",
        "nomenclature_name = 'Denominazione in italiano'\n",
        "nomenclature_nuts3 = 'Codice NUTS3 2021' if year > 2020 else 'Codice NUTS3 2010'\n",
        "nomenclature_cols = [nomenclature_code,nomenclature_name,nomenclature_nuts3]\n",
        "\n",
        "population_title = 'POPULATION'\n",
        "population_zipfile = 'https://demo.istat.it/data/p2/P2_' + str(year-1) + '_it_Comuni.zip'\n",
        "population_cond = 'P2_'  + str(year-1) + '_it_Comuni.csv'\n",
        "population_code = 'Codice comune'\n",
        "population_name = 'Comune'\n",
        "population_1stJan = 'Popolazione al 1° gennaio - Totale'\n",
        "population_cols = [population_code, population_name, population_1stJan]\n",
        "\n",
        "classifications_title = 'CLASSIFICATIONS'\n",
        "classifications_zipfile = 'https://www.istat.it/it/files/2015/04/Classificazioni-statistiche-Anni' + yrange1 + '.zip'\n",
        "classifications_cond = '31_12_' + str(year) + '.xlsx'\n",
        "classifications_code = 'Codice Istat del Comune \\n(numerico)'\n",
        "classifications_name = 'Denominazione (Italiana e straniera)'\n",
        "classifications_name2 = 'Denominazione altra lingua'\n",
        "classifications_area = 'Superficie territoriale (kmq) al 01/01/' + str(year)\n",
        "classifications_coast = 'Zone costiere'\n",
        "classifications_deg = 'Grado di urbanizzazione'\n",
        "classifications_cols = [classifications_code,classifications_name,classifications_name2,classifications_area,classifications_coast,classifications_deg]\n",
        "\n",
        "cityfua_title = 'CITYFUA'\n",
        "cityfua_file = 'https://www.istat.it/it/files/2019/11/Elenco-city-e-composizione-FUA-31-12-2020.xlsx'\n",
        "cityfua_cond = cityfua_file[-9:]\n",
        "cityfua_code = 'Procom numerico'\n",
        "cityfua_citycode = 'Codice City'\n",
        "cityfua_cityname = 'Denominazione City'\n",
        "cityfua_fuacode = 'Codice FUA'\n",
        "cityfua_fuaname = 'Denominazione FUA'\n",
        "cityfua_cols = [cityfua_code,cityfua_citycode,cityfua_cityname,cityfua_fuacode,cityfua_fuaname]\n",
        "\n",
        "prev_title = \"PREVIOUS LAU FILE\"\n",
        "#prev_fileurl = 'https://www.alessandrocimbelli.eu/gopa/NUTS_LAU_A_IT_' + str(year-1) + '_0000_V0001.zip'\n",
        "prev_fileurl = 'https://github.com/cimbelli/LAU/raw/main/NUTS_LAU_A_IT_' + str(year-1) + '_0000_V0001.xlsx'\n",
        "prev_cond = '.xlsx'\n",
        "prev_nuts3 = 'NUTS 3 CODE'\n",
        "prev_laucode = 'LAU CODE'\n",
        "prev_name = 'LAU NAME NATIONAL'\n",
        "prev_area = 'TOTAL AREA (m2)'\n",
        "prev_cols = [prev_nuts3, prev_laucode, prev_name, prev_area]\n",
        "\n",
        "lau_code = \"LAU CODE\"\n",
        "change = \"CHANGE (Y/N)\"\n",
        "prev_flag = False\n",
        "\n",
        "# field mapping\n",
        "columns={nomenclature_nuts3: \"NUTS 3 CODE\",\n",
        "         lau_code: \"LAU CODE\",\n",
        "         population_name: \"LAU NAME NATIONAL\",\n",
        "         classifications_name2: \"LAU NAME LATIN\",\n",
        "         change: \"CHANGE (Y/N)\",\n",
        "         population_1stJan: \"POPULATION\",\n",
        "         classifications_area: \"TOTAL AREA (m2)\",\n",
        "         classifications_deg: \"DEGURBA\",\n",
        "         classifications_coast: \"COASTAL AREA (yes/no)\",\n",
        "         cityfua_citycode: \"CITY_ID\",\n",
        "         cityfua_cityname: \"CITY_NAME\",\n",
        "         cityfua_fuacode: \"FUA_ID\",\n",
        "         cityfua_fuaname: \"FUA_NAME\"\n",
        "         }\n",
        "\n",
        "country ='IT'\n",
        "outname = 'NUTS_LAU_A_IT_' + str(year) + '_0000_V0001.xlsx'"
      ]
    },
    {
      "cell_type": "code",
      "execution_count": 4,
      "metadata": {
        "tags": [],
        "colab": {
          "base_uri": "https://localhost:8080/"
        },
        "id": "4GnBpnZlwszD",
        "outputId": "6045c325-4366-4440-ffff-105fa0c95df9"
      },
      "outputs": [
        {
          "output_type": "stream",
          "name": "stdout",
          "text": [
            "https://www.istat.it/storage/codici-unita-amministrative/Archivio-elenco-comuni-codici-e-denominazioni_Anni_2022-2023.zip\n",
            "https://demo.istat.it/data/p2/P2_2021_it_Comuni.zip\n",
            "https://www.istat.it/it/files/2015/04/Classificazioni-statistiche-Anni-2022-2023.zip\n",
            "https://www.istat.it/it/files/2019/11/Elenco-city-e-composizione-FUA-31-12-2020.xlsx\n",
            "https://github.com/cimbelli/LAU/raw/main/NUTS_LAU_A_IT_2021_0000_V0001.xlsx\n"
          ]
        }
      ],
      "source": [
        "print(nomenclature_zipfile)\n",
        "print(population_zipfile)\n",
        "print(classifications_zipfile)\n",
        "print(cityfua_file)\n",
        "print(prev_fileurl)"
      ]
    },
    {
      "cell_type": "code",
      "execution_count": null,
      "metadata": {
        "id": "SfhdzntcbOYF",
        "tags": [],
        "colab": {
          "base_uri": "https://localhost:8080/"
        },
        "outputId": "fca79313-2b57-4652-ab4f-46ac20b07d18"
      },
      "outputs": [
        {
          "output_type": "stream",
          "name": "stdout",
          "text": [
            "DOWNLOAD and UNZIP\n",
            "--- NOMENCLATURE ---\n"
          ]
        }
      ],
      "source": [
        "### FILES DOWNLOAD and RENAME\n",
        "\n",
        "#%%capture test\n",
        "print('DOWNLOAD and UNZIP')\n",
        "nomenclature_file = extract(nomenclature_title, nomenclature_zipfile, nomenclature_cond,'nomenclature')\n",
        "population_file = extract(population_title, population_zipfile, population_cond,'population')\n",
        "classifications_file = extract(classifications_title, classifications_zipfile, classifications_cond,'classifications')\n",
        "cityfua_file = extract(cityfua_title, cityfua_file, cityfua_cond,'cityfua')\n",
        "prev_file = extract(prev_title, prev_fileurl, prev_cond,'prev')"
      ]
    },
    {
      "cell_type": "code",
      "execution_count": null,
      "metadata": {
        "id": "RUkqkHpmHk24",
        "tags": []
      },
      "outputs": [],
      "source": [
        "### FILES OPEN\n",
        "nomenclature = openfile(nomenclature_file, nomenclature_cols)\n",
        "population = openfile(population_file, population_cols)\n",
        "classifications = openfile(classifications_file,classifications_cols)\n",
        "cityfua = openfile(cityfua_file, cityfua_cols)\n",
        "\n",
        "### CLEAN RECORDS FROM BLANKS\n",
        "nomenclature = trim_all_columns(nomenclature)\n",
        "population = trim_all_columns(population)\n",
        "classifications = trim_all_columns(classifications)\n",
        "cityfua = trim_all_columns(cityfua)\n",
        "\n",
        "# check LAU file of the previous year\n",
        "\n",
        "if os.path.exists(prev_file):\n",
        "    prev_flag = True\n",
        "    previous = openfile(prev_file, prev_cols)\n",
        "    previous = trim_all_columns(previous)\n",
        "    previous = previous.rename(columns={prev_nuts3: \"nuts3\", prev_laucode: \"lau\", prev_name: \"name\", prev_area: \"area\"})\n",
        "\n",
        "population[lau_code] = population[population_code].astype(str)\n",
        "population[population_code] = pd.to_numeric(population[population_code])\n",
        "population[population_1stJan] = population[population_1stJan].astype(int)"
      ]
    },
    {
      "cell_type": "code",
      "execution_count": null,
      "metadata": {
        "id": "x8xZIV3BGvKY"
      },
      "outputs": [],
      "source": [
        "### 1st JOIN\n",
        "df = pd.merge(nomenclature,population,left_on=nomenclature_code, right_on=population_code)\n",
        "df = df[[nomenclature_nuts3,lau_code, population_code, population_name, population_1stJan]]\n",
        "\n",
        "### 2nd JOIN\n",
        "df1 = pd.merge(df,classifications,left_on=population_code, right_on=classifications_code)\n",
        "df1 = df1[[nomenclature_nuts3,lau_code, population_code, population_name,classifications_name2, population_1stJan, classifications_area,\n",
        "           classifications_deg,classifications_coast]]\n",
        "\n",
        "### 3rd JOIN\n",
        "df2 = pd.merge(df1,cityfua,left_on=population_code, how='left', right_on=cityfua_code)\n",
        "df2[change]= ''\n",
        "df2 = df2[[nomenclature_nuts3,lau_code, population_name,classifications_name2, change, population_1stJan, classifications_area,classifications_deg,\n",
        "           classifications_coast, cityfua_citycode,cityfua_cityname,cityfua_fuacode,cityfua_fuaname]]\n",
        "\n",
        "# some value adjustments\n",
        "df2 = df2.replace('N.d.', 0)\n",
        "df2[classifications_area] = df2[classifications_area].astype(float)*1000000\n",
        "df2[classifications_area] = df2[classifications_area].astype(int)\n",
        "\n",
        "df2.loc[df2[classifications_coast] == 1, classifications_coast] = 'yes'\n",
        "df2.loc[df2[classifications_coast] == 0, classifications_coast] = 'no'\n",
        "\n",
        "df2 = df2.fillna('')\n",
        "df2.replace(np.nan,'',regex=True)\n",
        "df2 = df2.replace(0,'')\n",
        "\n",
        "### 4th JOIN if previous file exists\n",
        "if prev_flag:\n",
        "    df3 = pd.merge(df2, previous, left_on=lau_code, how='left', right_on=\"lau\")\n",
        "    df3[change]= 'N'\n",
        "    df3.loc[df3[nomenclature_nuts3] != df3['nuts3'], change] = 'Y'\n",
        "    df3.loc[df3[population_name] != df3['name'], change] = 'Y'\n",
        "    #df3.loc[df3[classifications_area] != df3['area'], change] = 'Y'\n",
        "    df2 = df3[[nomenclature_nuts3,lau_code, population_name,classifications_name2, change, population_1stJan, classifications_area,classifications_deg,\n",
        "           classifications_coast, cityfua_citycode,cityfua_cityname,cityfua_fuacode,cityfua_fuaname]]\n",
        "\n",
        "\n",
        "# output\n",
        "out = df2.rename(columns = columns)\n",
        "out.to_excel(outname, sheet_name = country, index=False)"
      ]
    },
    {
      "cell_type": "code",
      "execution_count": null,
      "metadata": {
        "id": "zsupv6LwbHKo",
        "tags": []
      },
      "outputs": [],
      "source": [
        "out.head()"
      ]
    },
    {
      "cell_type": "code",
      "execution_count": null,
      "metadata": {
        "id": "-ma451lZwszF"
      },
      "outputs": [],
      "source": []
    }
  ],
  "metadata": {
    "colab": {
      "provenance": [],
      "include_colab_link": true
    },
    "kernelspec": {
      "display_name": "Python 3 (ipykernel)",
      "language": "python",
      "name": "python3"
    },
    "language_info": {
      "codemirror_mode": {
        "name": "ipython",
        "version": 3
      },
      "file_extension": ".py",
      "mimetype": "text/x-python",
      "name": "python",
      "nbconvert_exporter": "python",
      "pygments_lexer": "ipython3",
      "version": "3.11.4"
    }
  },
  "nbformat": 4,
  "nbformat_minor": 0
}