{
  "nbformat": 4,
  "nbformat_minor": 0,
  "metadata": {
    "colab": {
      "provenance": [],
      "authorship_tag": "ABX9TyPfaakpeQDA/z2ZA8N9GnFj",
      "include_colab_link": true
    },
    "kernelspec": {
      "name": "python3",
      "display_name": "Python 3"
    },
    "language_info": {
      "name": "python"
    }
  },
  "cells": [
    {
      "cell_type": "markdown",
      "metadata": {
        "id": "view-in-github",
        "colab_type": "text"
      },
      "source": [
        "<a href=\"https://colab.research.google.com/github/cimbelli/LAU/blob/main/API_coastal.ipynb\" target=\"_parent\"><img src=\"https://colab.research.google.com/assets/colab-badge.svg\" alt=\"Open In Colab\"/></a>"
      ]
    },
    {
      "cell_type": "code",
      "execution_count": null,
      "metadata": {
        "id": "xIuaJSQMdUiq"
      },
      "outputs": [],
      "source": [
        "#!pip install requests\n",
        "import requests\n",
        "import json"
      ]
    },
    {
      "cell_type": "code",
      "source": [
        "files = []\n",
        "response = requests.get(\"https://gisco-services.ec.europa.eu/distribution/v2/coas/datasets.json\")\n",
        "#files = response.json()['files']\n",
        "\n",
        "def jprint(obj):\n",
        "    # create a formatted string of the Python JSON object\n",
        "    text = json.dumps(obj, sort_keys=True, indent=4)\n",
        "    print(text)\n",
        "\n",
        "jprint(response.json())\n",
        "#print(files)"
      ],
      "metadata": {
        "colab": {
          "base_uri": "https://localhost:8080/"
        },
        "id": "G45lVP_Ddb8B",
        "outputId": "509b4747-5e40-4adb-c1f5-f4a6604ae0ff"
      },
      "execution_count": null,
      "outputs": [
        {
          "output_type": "stream",
          "name": "stdout",
          "text": [
            "{\n",
            "    \"coastline-2006\": {\n",
            "        \"date\": \"01/01/2008\",\n",
            "        \"documentation\": \"coastline-2006-release-notes.txt\",\n",
            "        \"files\": \"coastline-2006-files.json\",\n",
            "        \"hashtag\": \"\",\n",
            "        \"metadata\": {},\n",
            "        \"packages\": \"coastline-2006-packages.json\",\n",
            "        \"title\": \"Coastal lines 2006\",\n",
            "        \"titleMultilingual\": {\n",
            "            \"de\": \"K\\u00fcstenlinien 2006\",\n",
            "            \"en\": \"Coastal lines 2006\",\n",
            "            \"fr\": \"Lignes de c\\u00f4te 2006\"\n",
            "        }\n",
            "    },\n",
            "    \"coastline-2010\": {\n",
            "        \"date\": \"01/01/2012\",\n",
            "        \"documentation\": \"coastline-2010-release-notes.txt\",\n",
            "        \"files\": \"coastline-2010-files.json\",\n",
            "        \"hashtag\": \"\",\n",
            "        \"metadata\": {},\n",
            "        \"packages\": \"coastline-2010-packages.json\",\n",
            "        \"title\": \"Coastal lines 2010\",\n",
            "        \"titleMultilingual\": {\n",
            "            \"de\": \"K\\u00fcstenlinien 2010\",\n",
            "            \"en\": \"Coastal lines 2010\",\n",
            "            \"fr\": \"Lignes de c\\u00f4te 2010\"\n",
            "        }\n",
            "    },\n",
            "    \"coastline-2013\": {\n",
            "        \"date\": \"01/01/2015\",\n",
            "        \"documentation\": \"coastline-2013-release-notes.txt\",\n",
            "        \"files\": \"coastline-2013-files.json\",\n",
            "        \"hashtag\": \"\",\n",
            "        \"metadata\": {},\n",
            "        \"packages\": \"coastline-2013-packages.json\",\n",
            "        \"title\": \"Coastal lines 2013\",\n",
            "        \"titleMultilingual\": {\n",
            "            \"de\": \"K\\u00fcstenlinien 2013\",\n",
            "            \"en\": \"Coastal lines 2013\",\n",
            "            \"fr\": \"Lignes de c\\u00f4te 2013\"\n",
            "        }\n",
            "    },\n",
            "    \"coastline-2016\": {\n",
            "        \"date\": \"01/01/2018\",\n",
            "        \"documentation\": \"coastline-2016-release-notes.txt\",\n",
            "        \"files\": \"coastline-2016-files.json\",\n",
            "        \"hashtag\": \"\",\n",
            "        \"metadata\": {},\n",
            "        \"packages\": \"coastline-2016-packages.json\",\n",
            "        \"title\": \"Coastal lines 2016\",\n",
            "        \"titleMultilingual\": {\n",
            "            \"de\": \"K\\u00fcstenlinien 2016\",\n",
            "            \"en\": \"Coastal lines 2016\",\n",
            "            \"fr\": \"Lignes de c\\u00f4te 2016\"\n",
            "        }\n",
            "    }\n",
            "}\n"
          ]
        }
      ]
    },
    {
      "cell_type": "code",
      "source": [
        "files = []\n",
        "\n",
        "for d in response.json():\n",
        "    print(d)\n",
        "    #f = d['files']\n",
        "    #files.append(f)\n",
        "print(d)"
      ],
      "metadata": {
        "colab": {
          "base_uri": "https://localhost:8080/"
        },
        "id": "vAw43b71hGWN",
        "outputId": "b42a2340-a6be-42f4-ec9c-889991b3079c"
      },
      "execution_count": null,
      "outputs": [
        {
          "output_type": "stream",
          "name": "stdout",
          "text": [
            "coastline-2006\n",
            "coastline-2010\n",
            "coastline-2013\n",
            "coastline-2016\n",
            "coastline-2016\n"
          ]
        }
      ]
    }
  ]
}