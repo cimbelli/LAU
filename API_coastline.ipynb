{
  "nbformat": 4,
  "nbformat_minor": 0,
  "metadata": {
    "colab": {
      "provenance": [],
      "authorship_tag": "ABX9TyNBcbBnLyMsZs14smH9kCZv",
      "include_colab_link": true
    },
    "kernelspec": {
      "name": "python3",
      "display_name": "Python 3"
    },
    "language_info": {
      "name": "python"
    }
  },
  "cells": [
    {
      "cell_type": "markdown",
      "metadata": {
        "id": "view-in-github",
        "colab_type": "text"
      },
      "source": [
        "<a href=\"https://colab.research.google.com/github/cimbelli/LAU/blob/main/API_coastline.ipynb\" target=\"_parent\"><img src=\"https://colab.research.google.com/assets/colab-badge.svg\" alt=\"Open In Colab\"/></a>"
      ]
    },
    {
      "cell_type": "code",
      "execution_count": 1,
      "metadata": {
        "colab": {
          "base_uri": "https://localhost:8080/"
        },
        "id": "xIuaJSQMdUiq",
        "outputId": "57644fd2-7374-424d-8706-1e1f19f3ddba"
      },
      "outputs": [
        {
          "output_type": "stream",
          "name": "stdout",
          "text": [
            "Requirement already satisfied: requests in /usr/local/lib/python3.10/dist-packages (2.27.1)\n",
            "Requirement already satisfied: urllib3<1.27,>=1.21.1 in /usr/local/lib/python3.10/dist-packages (from requests) (1.26.16)\n",
            "Requirement already satisfied: certifi>=2017.4.17 in /usr/local/lib/python3.10/dist-packages (from requests) (2023.5.7)\n",
            "Requirement already satisfied: charset-normalizer~=2.0.0 in /usr/local/lib/python3.10/dist-packages (from requests) (2.0.12)\n",
            "Requirement already satisfied: idna<4,>=2.5 in /usr/local/lib/python3.10/dist-packages (from requests) (3.4)\n"
          ]
        }
      ],
      "source": [
        "!pip install requests\n",
        "import requests"
      ]
    },
    {
      "cell_type": "code",
      "source": [
        "response = requests.get(\"https://gisco-services.ec.europa.eu/distribution/v2/coas/datasets.json\")\n",
        "print(response.json())"
      ],
      "metadata": {
        "colab": {
          "base_uri": "https://localhost:8080/"
        },
        "id": "G45lVP_Ddb8B",
        "outputId": "82706eab-78e0-4d70-aafc-31035e37248b"
      },
      "execution_count": 5,
      "outputs": [
        {
          "output_type": "stream",
          "name": "stdout",
          "text": [
            "{'coastline-2006': {'date': '01/01/2008', 'documentation': 'coastline-2006-release-notes.txt', 'files': 'coastline-2006-files.json', 'hashtag': '', 'metadata': {}, 'packages': 'coastline-2006-packages.json', 'title': 'Coastal lines 2006', 'titleMultilingual': {'de': 'Küstenlinien 2006', 'en': 'Coastal lines 2006', 'fr': 'Lignes de côte 2006'}}, 'coastline-2010': {'date': '01/01/2012', 'documentation': 'coastline-2010-release-notes.txt', 'files': 'coastline-2010-files.json', 'hashtag': '', 'metadata': {}, 'packages': 'coastline-2010-packages.json', 'title': 'Coastal lines 2010', 'titleMultilingual': {'de': 'Küstenlinien 2010', 'en': 'Coastal lines 2010', 'fr': 'Lignes de côte 2010'}}, 'coastline-2013': {'date': '01/01/2015', 'documentation': 'coastline-2013-release-notes.txt', 'files': 'coastline-2013-files.json', 'hashtag': '', 'metadata': {}, 'packages': 'coastline-2013-packages.json', 'title': 'Coastal lines 2013', 'titleMultilingual': {'de': 'Küstenlinien 2013', 'en': 'Coastal lines 2013', 'fr': 'Lignes de côte 2013'}}, 'coastline-2016': {'date': '01/01/2018', 'documentation': 'coastline-2016-release-notes.txt', 'files': 'coastline-2016-files.json', 'hashtag': '', 'metadata': {}, 'packages': 'coastline-2016-packages.json', 'title': 'Coastal lines 2016', 'titleMultilingual': {'de': 'Küstenlinien 2016', 'en': 'Coastal lines 2016', 'fr': 'Lignes de côte 2016'}}}\n"
          ]
        }
      ]
    }
  ]
}